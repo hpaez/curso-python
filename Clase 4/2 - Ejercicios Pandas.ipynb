{
 "cells": [
  {
   "cell_type": "markdown",
   "metadata": {},
   "source": [
    "# Ejercicios"
   ]
  },
  {
   "cell_type": "code",
   "execution_count": 3,
   "metadata": {},
   "outputs": [],
   "source": [
    "import numpy as np\n",
    "import pandas as pd\n",
    "import matplotlib.pyplot as plt"
   ]
  },
  {
   "cell_type": "markdown",
   "metadata": {},
   "source": [
    "## Def.\n",
    "\n",
    "* **vector**: array unidimensional\n",
    "* **matriz**: array bidimensional"
   ]
  },
  {
   "cell_type": "markdown",
   "metadata": {},
   "source": [
    "### ."
   ]
  },
  {
   "cell_type": "markdown",
   "metadata": {},
   "source": [
    "#### Descargar los datos del dataset [boston](https://raw.githubusercontent.com/vincentarelbundock/Rdatasets/master/csv/MASS/Boston.csv'), almacenarlos en un dataframe, y aplicarle el promedio a la columna `lstat`"
   ]
  },
  {
   "cell_type": "code",
   "execution_count": 5,
   "metadata": {},
   "outputs": [
    {
     "data": {
      "text/html": [
       "<div>\n",
       "<style scoped>\n",
       "    .dataframe tbody tr th:only-of-type {\n",
       "        vertical-align: middle;\n",
       "    }\n",
       "\n",
       "    .dataframe tbody tr th {\n",
       "        vertical-align: top;\n",
       "    }\n",
       "\n",
       "    .dataframe thead th {\n",
       "        text-align: right;\n",
       "    }\n",
       "</style>\n",
       "<table border=\"1\" class=\"dataframe\">\n",
       "  <thead>\n",
       "    <tr style=\"text-align: right;\">\n",
       "      <th></th>\n",
       "      <th>Unnamed: 0</th>\n",
       "      <th>crim</th>\n",
       "      <th>zn</th>\n",
       "      <th>indus</th>\n",
       "      <th>chas</th>\n",
       "      <th>nox</th>\n",
       "      <th>rm</th>\n",
       "      <th>age</th>\n",
       "      <th>dis</th>\n",
       "      <th>rad</th>\n",
       "      <th>tax</th>\n",
       "      <th>ptratio</th>\n",
       "      <th>black</th>\n",
       "      <th>lstat</th>\n",
       "      <th>medv</th>\n",
       "    </tr>\n",
       "  </thead>\n",
       "  <tbody>\n",
       "    <tr>\n",
       "      <th>0</th>\n",
       "      <td>1</td>\n",
       "      <td>0.00632</td>\n",
       "      <td>18.0</td>\n",
       "      <td>2.31</td>\n",
       "      <td>0</td>\n",
       "      <td>0.538</td>\n",
       "      <td>6.575</td>\n",
       "      <td>65.2</td>\n",
       "      <td>4.0900</td>\n",
       "      <td>1</td>\n",
       "      <td>296</td>\n",
       "      <td>15.3</td>\n",
       "      <td>396.9</td>\n",
       "      <td>4.98</td>\n",
       "      <td>24.0</td>\n",
       "    </tr>\n",
       "    <tr>\n",
       "      <th>1</th>\n",
       "      <td>2</td>\n",
       "      <td>0.02731</td>\n",
       "      <td>0.0</td>\n",
       "      <td>7.07</td>\n",
       "      <td>0</td>\n",
       "      <td>0.469</td>\n",
       "      <td>6.421</td>\n",
       "      <td>78.9</td>\n",
       "      <td>4.9671</td>\n",
       "      <td>2</td>\n",
       "      <td>242</td>\n",
       "      <td>17.8</td>\n",
       "      <td>396.9</td>\n",
       "      <td>9.14</td>\n",
       "      <td>21.6</td>\n",
       "    </tr>\n",
       "  </tbody>\n",
       "</table>\n",
       "</div>"
      ],
      "text/plain": [
       "   Unnamed: 0     crim    zn  indus  chas    nox     rm   age     dis  rad  \\\n",
       "0           1  0.00632  18.0   2.31     0  0.538  6.575  65.2  4.0900    1   \n",
       "1           2  0.02731   0.0   7.07     0  0.469  6.421  78.9  4.9671    2   \n",
       "\n",
       "   tax  ptratio  black  lstat  medv  \n",
       "0  296     15.3  396.9   4.98  24.0  \n",
       "1  242     17.8  396.9   9.14  21.6  "
      ]
     },
     "execution_count": 5,
     "metadata": {},
     "output_type": "execute_result"
    }
   ],
   "source": [
    "url = 'https://raw.githubusercontent.com/vincentarelbundock/Rdatasets/master/csv/MASS/Boston.csv'\n",
    "df = pd.read_csv(url)\n",
    "df.head(2)"
   ]
  },
  {
   "cell_type": "code",
   "execution_count": 10,
   "metadata": {},
   "outputs": [
    {
     "data": {
      "text/plain": [
       "12.653063241106722"
      ]
     },
     "execution_count": 10,
     "metadata": {},
     "output_type": "execute_result"
    }
   ],
   "source": [
    "np.average(df['lstat'].values)"
   ]
  },
  {
   "cell_type": "raw",
   "metadata": {},
   "source": [
    "12.653063241106722"
   ]
  },
  {
   "cell_type": "markdown",
   "metadata": {},
   "source": [
    "#### Crear 2 series con indices iguales y concatenarlas"
   ]
  },
  {
   "cell_type": "code",
   "execution_count": 17,
   "metadata": {},
   "outputs": [
    {
     "data": {
      "text/plain": [
       "a    1\n",
       "b    2\n",
       "c    3\n",
       "d    4\n",
       "a    5\n",
       "b    6\n",
       "c    7\n",
       "d    8\n",
       "dtype: int64"
      ]
     },
     "execution_count": 17,
     "metadata": {},
     "output_type": "execute_result"
    }
   ],
   "source": [
    "serie1 = pd.Series(np.arange(1, 5), index=['a', 'b', 'c', 'd'])\n",
    "serie2 = pd.Series(np.arange(5, 9), index=['a', 'b', 'c', 'd'])\n",
    "pd.concat([serie1, serie2])"
   ]
  },
  {
   "cell_type": "raw",
   "metadata": {},
   "source": [
    "a    1\n",
    "b    2\n",
    "c    3\n",
    "d    4\n",
    "a    5\n",
    "b    6\n",
    "c    7\n",
    "d    8\n",
    "dtype: int64"
   ]
  },
  {
   "cell_type": "markdown",
   "metadata": {},
   "source": [
    "#### Crear 2 series con indices iguales y concatenarlas, pero la serie resultante debe quedar con indices unicos"
   ]
  },
  {
   "cell_type": "code",
   "execution_count": 18,
   "metadata": {},
   "outputs": [
    {
     "data": {
      "text/plain": [
       "0    1\n",
       "1    2\n",
       "2    3\n",
       "3    4\n",
       "4    5\n",
       "5    6\n",
       "6    7\n",
       "7    8\n",
       "dtype: int64"
      ]
     },
     "execution_count": 18,
     "metadata": {},
     "output_type": "execute_result"
    }
   ],
   "source": [
    "serie1 = pd.Series(np.arange(1, 5))\n",
    "serie2 = pd.Series(np.arange(5, 9))\n",
    "pd.concat([serie1, serie2], ignore_index=True)"
   ]
  },
  {
   "cell_type": "raw",
   "metadata": {},
   "source": [
    "0    1\n",
    "1    2\n",
    "2    3\n",
    "3    4\n",
    "4    5\n",
    "5    6\n",
    "6    7\n",
    "7    8\n",
    "dtype: int64"
   ]
  },
  {
   "cell_type": "markdown",
   "metadata": {},
   "source": [
    "## ..."
   ]
  },
  {
   "cell_type": "markdown",
   "metadata": {},
   "source": [
    "## `SELECT * FROM empleado`\n",
    "Cargar los datos del archivo `empleado.csv` a un dataframe llamado `empleado`"
   ]
  },
  {
   "cell_type": "code",
   "execution_count": 29,
   "metadata": {},
   "outputs": [
    {
     "data": {
      "text/html": [
       "<div>\n",
       "<style scoped>\n",
       "    .dataframe tbody tr th:only-of-type {\n",
       "        vertical-align: middle;\n",
       "    }\n",
       "\n",
       "    .dataframe tbody tr th {\n",
       "        vertical-align: top;\n",
       "    }\n",
       "\n",
       "    .dataframe thead th {\n",
       "        text-align: right;\n",
       "    }\n",
       "</style>\n",
       "<table border=\"1\" class=\"dataframe\">\n",
       "  <thead>\n",
       "    <tr style=\"text-align: right;\">\n",
       "      <th></th>\n",
       "      <th>Nombre</th>\n",
       "      <th>Apellido1</th>\n",
       "      <th>Apellido2</th>\n",
       "      <th>Dni</th>\n",
       "      <th>FechaNac</th>\n",
       "      <th>Dirección</th>\n",
       "      <th>Sexo</th>\n",
       "      <th>Sueldo</th>\n",
       "      <th>SuperDni</th>\n",
       "      <th>Dno</th>\n",
       "    </tr>\n",
       "  </thead>\n",
       "  <tbody>\n",
       "    <tr>\n",
       "      <th>0</th>\n",
       "      <td>José</td>\n",
       "      <td>Pérez</td>\n",
       "      <td>Pérez</td>\n",
       "      <td>123456789</td>\n",
       "      <td>01-09-1965</td>\n",
       "      <td>Eloy I, 98</td>\n",
       "      <td>H</td>\n",
       "      <td>30000</td>\n",
       "      <td>333445555.0</td>\n",
       "      <td>5</td>\n",
       "    </tr>\n",
       "    <tr>\n",
       "      <th>1</th>\n",
       "      <td>Alberto</td>\n",
       "      <td>Campos</td>\n",
       "      <td>Sastre</td>\n",
       "      <td>333445555</td>\n",
       "      <td>08-12-1955</td>\n",
       "      <td>Avda. Ríos, 9</td>\n",
       "      <td>H</td>\n",
       "      <td>40000</td>\n",
       "      <td>888665555.0</td>\n",
       "      <td>5</td>\n",
       "    </tr>\n",
       "    <tr>\n",
       "      <th>2</th>\n",
       "      <td>Alicia</td>\n",
       "      <td>Jiménez</td>\n",
       "      <td>Celaya</td>\n",
       "      <td>999887777</td>\n",
       "      <td>12-05-1968</td>\n",
       "      <td>Gran Via, 38</td>\n",
       "      <td>M</td>\n",
       "      <td>25000</td>\n",
       "      <td>987654321.0</td>\n",
       "      <td>4</td>\n",
       "    </tr>\n",
       "    <tr>\n",
       "      <th>3</th>\n",
       "      <td>Juana</td>\n",
       "      <td>Sainz</td>\n",
       "      <td>Oreja</td>\n",
       "      <td>987654321</td>\n",
       "      <td>20-06-1941</td>\n",
       "      <td>Cerquillas, 67</td>\n",
       "      <td>M</td>\n",
       "      <td>43000</td>\n",
       "      <td>888665555.0</td>\n",
       "      <td>4</td>\n",
       "    </tr>\n",
       "    <tr>\n",
       "      <th>4</th>\n",
       "      <td>Fernando</td>\n",
       "      <td>Ojeda</td>\n",
       "      <td>Ordóñez</td>\n",
       "      <td>666884444</td>\n",
       "      <td>15-09-1962</td>\n",
       "      <td>Portilo, s/n</td>\n",
       "      <td>H</td>\n",
       "      <td>38000</td>\n",
       "      <td>333445555.0</td>\n",
       "      <td>5</td>\n",
       "    </tr>\n",
       "    <tr>\n",
       "      <th>5</th>\n",
       "      <td>Aurora</td>\n",
       "      <td>Oliva</td>\n",
       "      <td>Avezuela</td>\n",
       "      <td>453453453</td>\n",
       "      <td>31-07-1972</td>\n",
       "      <td>Antón, 6</td>\n",
       "      <td>M</td>\n",
       "      <td>25000</td>\n",
       "      <td>333445555.0</td>\n",
       "      <td>5</td>\n",
       "    </tr>\n",
       "    <tr>\n",
       "      <th>6</th>\n",
       "      <td>Luis</td>\n",
       "      <td>Pajares</td>\n",
       "      <td>Morera</td>\n",
       "      <td>987987987</td>\n",
       "      <td>29-03-1969</td>\n",
       "      <td>Enebros, 90</td>\n",
       "      <td>H</td>\n",
       "      <td>25000</td>\n",
       "      <td>987654321.0</td>\n",
       "      <td>4</td>\n",
       "    </tr>\n",
       "    <tr>\n",
       "      <th>7</th>\n",
       "      <td>Eduardo</td>\n",
       "      <td>Ochoa</td>\n",
       "      <td>Paredes</td>\n",
       "      <td>888665555</td>\n",
       "      <td>10-11-1937</td>\n",
       "      <td>Las Peñas, 1</td>\n",
       "      <td>H</td>\n",
       "      <td>55000</td>\n",
       "      <td>NaN</td>\n",
       "      <td>1</td>\n",
       "    </tr>\n",
       "  </tbody>\n",
       "</table>\n",
       "</div>"
      ],
      "text/plain": [
       "     Nombre Apellido1 Apellido2        Dni    FechaNac       Dirección Sexo  \\\n",
       "0      José     Pérez     Pérez  123456789  01-09-1965      Eloy I, 98    H   \n",
       "1   Alberto    Campos    Sastre  333445555  08-12-1955   Avda. Ríos, 9    H   \n",
       "2    Alicia   Jiménez    Celaya  999887777  12-05-1968    Gran Via, 38    M   \n",
       "3     Juana     Sainz     Oreja  987654321  20-06-1941  Cerquillas, 67    M   \n",
       "4  Fernando     Ojeda   Ordóñez  666884444  15-09-1962    Portilo, s/n    H   \n",
       "5    Aurora     Oliva  Avezuela  453453453  31-07-1972        Antón, 6    M   \n",
       "6      Luis   Pajares    Morera  987987987  29-03-1969     Enebros, 90    H   \n",
       "7   Eduardo     Ochoa   Paredes  888665555  10-11-1937    Las Peñas, 1    H   \n",
       "\n",
       "   Sueldo     SuperDni  Dno  \n",
       "0   30000  333445555.0    5  \n",
       "1   40000  888665555.0    5  \n",
       "2   25000  987654321.0    4  \n",
       "3   43000  888665555.0    4  \n",
       "4   38000  333445555.0    5  \n",
       "5   25000  333445555.0    5  \n",
       "6   25000  987654321.0    4  \n",
       "7   55000          NaN    1  "
      ]
     },
     "execution_count": 29,
     "metadata": {},
     "output_type": "execute_result"
    }
   ],
   "source": [
    "empleado = pd.read_csv('datos/Empleado.csv', sep=';')\n",
    "empleado"
   ]
  },
  {
   "cell_type": "code",
   "execution_count": 21,
   "metadata": {
    "scrolled": true
   },
   "outputs": [
    {
     "data": {
      "text/html": [
       "<div>\n",
       "<style scoped>\n",
       "    .dataframe tbody tr th:only-of-type {\n",
       "        vertical-align: middle;\n",
       "    }\n",
       "\n",
       "    .dataframe tbody tr th {\n",
       "        vertical-align: top;\n",
       "    }\n",
       "\n",
       "    .dataframe thead th {\n",
       "        text-align: right;\n",
       "    }\n",
       "</style>\n",
       "<table border=\"1\" class=\"dataframe\">\n",
       "  <thead>\n",
       "    <tr style=\"text-align: right;\">\n",
       "      <th></th>\n",
       "      <th>NombreDpto</th>\n",
       "      <th>NumeroDpto</th>\n",
       "      <th>DniDirector</th>\n",
       "      <th>FechaIngresoDirector</th>\n",
       "    </tr>\n",
       "  </thead>\n",
       "  <tbody>\n",
       "    <tr>\n",
       "      <th>0</th>\n",
       "      <td>Investigación</td>\n",
       "      <td>5</td>\n",
       "      <td>333445555</td>\n",
       "      <td>22-05-1988</td>\n",
       "    </tr>\n",
       "    <tr>\n",
       "      <th>1</th>\n",
       "      <td>Administración</td>\n",
       "      <td>4</td>\n",
       "      <td>987654321</td>\n",
       "      <td>01-01-1995</td>\n",
       "    </tr>\n",
       "    <tr>\n",
       "      <th>2</th>\n",
       "      <td>Sede Central</td>\n",
       "      <td>1</td>\n",
       "      <td>888665555</td>\n",
       "      <td>19-06-1981</td>\n",
       "    </tr>\n",
       "  </tbody>\n",
       "</table>\n",
       "</div>"
      ],
      "text/plain": [
       "       NombreDpto  NumeroDpto  DniDirector FechaIngresoDirector\n",
       "0   Investigación           5    333445555           22-05-1988\n",
       "1  Administración           4    987654321           01-01-1995\n",
       "2    Sede Central           1    888665555           19-06-1981"
      ]
     },
     "execution_count": 21,
     "metadata": {},
     "output_type": "execute_result"
    }
   ],
   "source": [
    "departamento = pd.read_csv('datos/Departamento.csv', sep=';')\n",
    "departamento"
   ]
  },
  {
   "cell_type": "code",
   "execution_count": 22,
   "metadata": {},
   "outputs": [
    {
     "data": {
      "text/html": [
       "<div>\n",
       "<style scoped>\n",
       "    .dataframe tbody tr th:only-of-type {\n",
       "        vertical-align: middle;\n",
       "    }\n",
       "\n",
       "    .dataframe tbody tr th {\n",
       "        vertical-align: top;\n",
       "    }\n",
       "\n",
       "    .dataframe thead th {\n",
       "        text-align: right;\n",
       "    }\n",
       "</style>\n",
       "<table border=\"1\" class=\"dataframe\">\n",
       "  <thead>\n",
       "    <tr style=\"text-align: right;\">\n",
       "      <th></th>\n",
       "      <th>NumeroDpto</th>\n",
       "      <th>UbicacionDpto</th>\n",
       "    </tr>\n",
       "  </thead>\n",
       "  <tbody>\n",
       "    <tr>\n",
       "      <th>0</th>\n",
       "      <td>1</td>\n",
       "      <td>Madrid</td>\n",
       "    </tr>\n",
       "    <tr>\n",
       "      <th>1</th>\n",
       "      <td>4</td>\n",
       "      <td>Gijón</td>\n",
       "    </tr>\n",
       "    <tr>\n",
       "      <th>2</th>\n",
       "      <td>5</td>\n",
       "      <td>Valencia</td>\n",
       "    </tr>\n",
       "    <tr>\n",
       "      <th>3</th>\n",
       "      <td>5</td>\n",
       "      <td>Sevilla</td>\n",
       "    </tr>\n",
       "    <tr>\n",
       "      <th>4</th>\n",
       "      <td>5</td>\n",
       "      <td>Madrid</td>\n",
       "    </tr>\n",
       "  </tbody>\n",
       "</table>\n",
       "</div>"
      ],
      "text/plain": [
       "   NumeroDpto UbicacionDpto\n",
       "0           1        Madrid\n",
       "1           4         Gijón\n",
       "2           5      Valencia\n",
       "3           5       Sevilla\n",
       "4           5        Madrid"
      ]
     },
     "execution_count": 22,
     "metadata": {},
     "output_type": "execute_result"
    }
   ],
   "source": [
    "localizaciones_depto = pd.read_csv('datos/Localizaciones_Dpto.csv', sep=';')\n",
    "localizaciones_depto"
   ]
  },
  {
   "cell_type": "raw",
   "metadata": {},
   "source": [
    "SELECT nombre, apellido1, fecha_nac \n",
    "FROM empleado"
   ]
  },
  {
   "cell_type": "code",
   "execution_count": 35,
   "metadata": {},
   "outputs": [
    {
     "data": {
      "text/html": [
       "<div>\n",
       "<style scoped>\n",
       "    .dataframe tbody tr th:only-of-type {\n",
       "        vertical-align: middle;\n",
       "    }\n",
       "\n",
       "    .dataframe tbody tr th {\n",
       "        vertical-align: top;\n",
       "    }\n",
       "\n",
       "    .dataframe thead th {\n",
       "        text-align: right;\n",
       "    }\n",
       "</style>\n",
       "<table border=\"1\" class=\"dataframe\">\n",
       "  <thead>\n",
       "    <tr style=\"text-align: right;\">\n",
       "      <th></th>\n",
       "      <th>Nombre</th>\n",
       "      <th>Apellido1</th>\n",
       "      <th>FechaNac</th>\n",
       "    </tr>\n",
       "  </thead>\n",
       "  <tbody>\n",
       "    <tr>\n",
       "      <th>0</th>\n",
       "      <td>José</td>\n",
       "      <td>Pérez</td>\n",
       "      <td>01-09-1965</td>\n",
       "    </tr>\n",
       "    <tr>\n",
       "      <th>1</th>\n",
       "      <td>Alberto</td>\n",
       "      <td>Campos</td>\n",
       "      <td>08-12-1955</td>\n",
       "    </tr>\n",
       "    <tr>\n",
       "      <th>2</th>\n",
       "      <td>Alicia</td>\n",
       "      <td>Jiménez</td>\n",
       "      <td>12-05-1968</td>\n",
       "    </tr>\n",
       "    <tr>\n",
       "      <th>3</th>\n",
       "      <td>Juana</td>\n",
       "      <td>Sainz</td>\n",
       "      <td>20-06-1941</td>\n",
       "    </tr>\n",
       "    <tr>\n",
       "      <th>4</th>\n",
       "      <td>Fernando</td>\n",
       "      <td>Ojeda</td>\n",
       "      <td>15-09-1962</td>\n",
       "    </tr>\n",
       "    <tr>\n",
       "      <th>5</th>\n",
       "      <td>Aurora</td>\n",
       "      <td>Oliva</td>\n",
       "      <td>31-07-1972</td>\n",
       "    </tr>\n",
       "    <tr>\n",
       "      <th>6</th>\n",
       "      <td>Luis</td>\n",
       "      <td>Pajares</td>\n",
       "      <td>29-03-1969</td>\n",
       "    </tr>\n",
       "    <tr>\n",
       "      <th>7</th>\n",
       "      <td>Eduardo</td>\n",
       "      <td>Ochoa</td>\n",
       "      <td>10-11-1937</td>\n",
       "    </tr>\n",
       "  </tbody>\n",
       "</table>\n",
       "</div>"
      ],
      "text/plain": [
       "     Nombre Apellido1    FechaNac\n",
       "0      José     Pérez  01-09-1965\n",
       "1   Alberto    Campos  08-12-1955\n",
       "2    Alicia   Jiménez  12-05-1968\n",
       "3     Juana     Sainz  20-06-1941\n",
       "4  Fernando     Ojeda  15-09-1962\n",
       "5    Aurora     Oliva  31-07-1972\n",
       "6      Luis   Pajares  29-03-1969\n",
       "7   Eduardo     Ochoa  10-11-1937"
      ]
     },
     "execution_count": 35,
     "metadata": {},
     "output_type": "execute_result"
    }
   ],
   "source": [
    "empleado[['Nombre', 'Apellido1', 'FechaNac']]"
   ]
  },
  {
   "cell_type": "raw",
   "metadata": {},
   "source": [
    "SELECT nombre \n",
    "FROM empleado \n",
    "WHERE sueldo > 40000"
   ]
  },
  {
   "cell_type": "code",
   "execution_count": 39,
   "metadata": {},
   "outputs": [
    {
     "data": {
      "text/html": [
       "<div>\n",
       "<style scoped>\n",
       "    .dataframe tbody tr th:only-of-type {\n",
       "        vertical-align: middle;\n",
       "    }\n",
       "\n",
       "    .dataframe tbody tr th {\n",
       "        vertical-align: top;\n",
       "    }\n",
       "\n",
       "    .dataframe thead th {\n",
       "        text-align: right;\n",
       "    }\n",
       "</style>\n",
       "<table border=\"1\" class=\"dataframe\">\n",
       "  <thead>\n",
       "    <tr style=\"text-align: right;\">\n",
       "      <th></th>\n",
       "      <th>Nombre</th>\n",
       "    </tr>\n",
       "  </thead>\n",
       "  <tbody>\n",
       "    <tr>\n",
       "      <th>3</th>\n",
       "      <td>Juana</td>\n",
       "    </tr>\n",
       "    <tr>\n",
       "      <th>7</th>\n",
       "      <td>Eduardo</td>\n",
       "    </tr>\n",
       "  </tbody>\n",
       "</table>\n",
       "</div>"
      ],
      "text/plain": [
       "    Nombre\n",
       "3    Juana\n",
       "7  Eduardo"
      ]
     },
     "execution_count": 39,
     "metadata": {},
     "output_type": "execute_result"
    }
   ],
   "source": [
    "empleado.loc[empleado.Sueldo > 40000, ['Nombre']]"
   ]
  },
  {
   "cell_type": "raw",
   "metadata": {},
   "source": [
    "SELECT dni \n",
    "FROM empleado \n",
    "WHERE dno = 5 AND sexo = 'H'"
   ]
  },
  {
   "cell_type": "code",
   "execution_count": 43,
   "metadata": {},
   "outputs": [
    {
     "data": {
      "text/html": [
       "<div>\n",
       "<style scoped>\n",
       "    .dataframe tbody tr th:only-of-type {\n",
       "        vertical-align: middle;\n",
       "    }\n",
       "\n",
       "    .dataframe tbody tr th {\n",
       "        vertical-align: top;\n",
       "    }\n",
       "\n",
       "    .dataframe thead th {\n",
       "        text-align: right;\n",
       "    }\n",
       "</style>\n",
       "<table border=\"1\" class=\"dataframe\">\n",
       "  <thead>\n",
       "    <tr style=\"text-align: right;\">\n",
       "      <th></th>\n",
       "      <th>Dni</th>\n",
       "    </tr>\n",
       "  </thead>\n",
       "  <tbody>\n",
       "    <tr>\n",
       "      <th>0</th>\n",
       "      <td>123456789</td>\n",
       "    </tr>\n",
       "    <tr>\n",
       "      <th>1</th>\n",
       "      <td>333445555</td>\n",
       "    </tr>\n",
       "    <tr>\n",
       "      <th>4</th>\n",
       "      <td>666884444</td>\n",
       "    </tr>\n",
       "  </tbody>\n",
       "</table>\n",
       "</div>"
      ],
      "text/plain": [
       "         Dni\n",
       "0  123456789\n",
       "1  333445555\n",
       "4  666884444"
      ]
     },
     "execution_count": 43,
     "metadata": {},
     "output_type": "execute_result"
    }
   ],
   "source": [
    "empleado.loc[(empleado.Dno == 5) & (empleado.Sexo == 'H'), ['Dni']]"
   ]
  },
  {
   "cell_type": "raw",
   "metadata": {},
   "source": [
    "SELECT nombre, apellido1, direccion\n",
    "FROM empleado, departamento\n",
    "WHERE nombre_depto = 'Investigación' AND numero_depto = dno;"
   ]
  },
  {
   "cell_type": "code",
   "execution_count": 53,
   "metadata": {},
   "outputs": [
    {
     "data": {
      "text/html": [
       "<div>\n",
       "<style scoped>\n",
       "    .dataframe tbody tr th:only-of-type {\n",
       "        vertical-align: middle;\n",
       "    }\n",
       "\n",
       "    .dataframe tbody tr th {\n",
       "        vertical-align: top;\n",
       "    }\n",
       "\n",
       "    .dataframe thead th {\n",
       "        text-align: right;\n",
       "    }\n",
       "</style>\n",
       "<table border=\"1\" class=\"dataframe\">\n",
       "  <thead>\n",
       "    <tr style=\"text-align: right;\">\n",
       "      <th></th>\n",
       "      <th>Nombre</th>\n",
       "      <th>Apellido1</th>\n",
       "      <th>Dirección</th>\n",
       "    </tr>\n",
       "  </thead>\n",
       "  <tbody>\n",
       "    <tr>\n",
       "      <th>0</th>\n",
       "      <td>Alberto</td>\n",
       "      <td>Campos</td>\n",
       "      <td>Avda. Ríos, 9</td>\n",
       "    </tr>\n",
       "  </tbody>\n",
       "</table>\n",
       "</div>"
      ],
      "text/plain": [
       "    Nombre Apellido1      Dirección\n",
       "0  Alberto    Campos  Avda. Ríos, 9"
      ]
     },
     "execution_count": 53,
     "metadata": {},
     "output_type": "execute_result"
    }
   ],
   "source": [
    "empleado_departamento = pd.merge(empleado, departamento, how = 'right', left_on = 'Dni', right_on = 'DniDirector')\n",
    "empleado_departamento.loc[(empleado_departamento.NombreDpto == 'Investigación') & (empleado_departamento.NumeroDpto == empleado_departamento.Dno), ['Nombre', 'Apellido1', 'Dirección']]"
   ]
  },
  {
   "cell_type": "raw",
   "metadata": {},
   "source": [
    "SELECT *\n",
    "FROM empleado\n",
    "WHERE (sueldo BETWEEN 30000 AND 40000) AND dno = 5;"
   ]
  },
  {
   "cell_type": "code",
   "execution_count": 59,
   "metadata": {},
   "outputs": [
    {
     "data": {
      "text/html": [
       "<div>\n",
       "<style scoped>\n",
       "    .dataframe tbody tr th:only-of-type {\n",
       "        vertical-align: middle;\n",
       "    }\n",
       "\n",
       "    .dataframe tbody tr th {\n",
       "        vertical-align: top;\n",
       "    }\n",
       "\n",
       "    .dataframe thead th {\n",
       "        text-align: right;\n",
       "    }\n",
       "</style>\n",
       "<table border=\"1\" class=\"dataframe\">\n",
       "  <thead>\n",
       "    <tr style=\"text-align: right;\">\n",
       "      <th></th>\n",
       "      <th>Nombre</th>\n",
       "      <th>Apellido1</th>\n",
       "      <th>Apellido2</th>\n",
       "      <th>Dni</th>\n",
       "      <th>FechaNac</th>\n",
       "      <th>Dirección</th>\n",
       "      <th>Sexo</th>\n",
       "      <th>Sueldo</th>\n",
       "      <th>SuperDni</th>\n",
       "      <th>Dno</th>\n",
       "    </tr>\n",
       "  </thead>\n",
       "  <tbody>\n",
       "    <tr>\n",
       "      <th>0</th>\n",
       "      <td>José</td>\n",
       "      <td>Pérez</td>\n",
       "      <td>Pérez</td>\n",
       "      <td>123456789</td>\n",
       "      <td>01-09-1965</td>\n",
       "      <td>Eloy I, 98</td>\n",
       "      <td>H</td>\n",
       "      <td>30000</td>\n",
       "      <td>333445555.0</td>\n",
       "      <td>5</td>\n",
       "    </tr>\n",
       "    <tr>\n",
       "      <th>1</th>\n",
       "      <td>Alberto</td>\n",
       "      <td>Campos</td>\n",
       "      <td>Sastre</td>\n",
       "      <td>333445555</td>\n",
       "      <td>08-12-1955</td>\n",
       "      <td>Avda. Ríos, 9</td>\n",
       "      <td>H</td>\n",
       "      <td>40000</td>\n",
       "      <td>888665555.0</td>\n",
       "      <td>5</td>\n",
       "    </tr>\n",
       "    <tr>\n",
       "      <th>4</th>\n",
       "      <td>Fernando</td>\n",
       "      <td>Ojeda</td>\n",
       "      <td>Ordóñez</td>\n",
       "      <td>666884444</td>\n",
       "      <td>15-09-1962</td>\n",
       "      <td>Portilo, s/n</td>\n",
       "      <td>H</td>\n",
       "      <td>38000</td>\n",
       "      <td>333445555.0</td>\n",
       "      <td>5</td>\n",
       "    </tr>\n",
       "  </tbody>\n",
       "</table>\n",
       "</div>"
      ],
      "text/plain": [
       "     Nombre Apellido1 Apellido2        Dni    FechaNac      Dirección Sexo  \\\n",
       "0      José     Pérez     Pérez  123456789  01-09-1965     Eloy I, 98    H   \n",
       "1   Alberto    Campos    Sastre  333445555  08-12-1955  Avda. Ríos, 9    H   \n",
       "4  Fernando     Ojeda   Ordóñez  666884444  15-09-1962   Portilo, s/n    H   \n",
       "\n",
       "   Sueldo     SuperDni  Dno  \n",
       "0   30000  333445555.0    5  \n",
       "1   40000  888665555.0    5  \n",
       "4   38000  333445555.0    5  "
      ]
     },
     "execution_count": 59,
     "metadata": {},
     "output_type": "execute_result"
    }
   ],
   "source": [
    "empleado.loc[(empleado.Sueldo.between(30000, 40000)&(empleado.Dno == 5))]"
   ]
  },
  {
   "cell_type": "raw",
   "metadata": {},
   "source": [
    "SELECT distinct dni_empleado\n",
    "FROM empleado\n",
    "WHERE num_proyecto in (1, 2, 3);"
   ]
  },
  {
   "cell_type": "code",
   "execution_count": null,
   "metadata": {},
   "outputs": [],
   "source": []
  },
  {
   "cell_type": "raw",
   "metadata": {},
   "source": [
    "SELECT nombre, apellido1\n",
    "FROM (empleado\n",
    "JOIN departamento ON dno = numero_depto)\n",
    "WHERE nombre_depto = 'Investigación';"
   ]
  },
  {
   "cell_type": "code",
   "execution_count": 61,
   "metadata": {},
   "outputs": [
    {
     "data": {
      "text/html": [
       "<div>\n",
       "<style scoped>\n",
       "    .dataframe tbody tr th:only-of-type {\n",
       "        vertical-align: middle;\n",
       "    }\n",
       "\n",
       "    .dataframe tbody tr th {\n",
       "        vertical-align: top;\n",
       "    }\n",
       "\n",
       "    .dataframe thead th {\n",
       "        text-align: right;\n",
       "    }\n",
       "</style>\n",
       "<table border=\"1\" class=\"dataframe\">\n",
       "  <thead>\n",
       "    <tr style=\"text-align: right;\">\n",
       "      <th></th>\n",
       "      <th>Nombre</th>\n",
       "      <th>Apellido1</th>\n",
       "    </tr>\n",
       "  </thead>\n",
       "  <tbody>\n",
       "    <tr>\n",
       "      <th>0</th>\n",
       "      <td>José</td>\n",
       "      <td>Pérez</td>\n",
       "    </tr>\n",
       "    <tr>\n",
       "      <th>1</th>\n",
       "      <td>Alberto</td>\n",
       "      <td>Campos</td>\n",
       "    </tr>\n",
       "    <tr>\n",
       "      <th>2</th>\n",
       "      <td>Fernando</td>\n",
       "      <td>Ojeda</td>\n",
       "    </tr>\n",
       "    <tr>\n",
       "      <th>3</th>\n",
       "      <td>Aurora</td>\n",
       "      <td>Oliva</td>\n",
       "    </tr>\n",
       "  </tbody>\n",
       "</table>\n",
       "</div>"
      ],
      "text/plain": [
       "     Nombre Apellido1\n",
       "0      José     Pérez\n",
       "1   Alberto    Campos\n",
       "2  Fernando     Ojeda\n",
       "3    Aurora     Oliva"
      ]
     },
     "execution_count": 61,
     "metadata": {},
     "output_type": "execute_result"
    }
   ],
   "source": [
    "empleado_departamento = pd.merge(empleado, departamento, how = 'right', left_on = 'Dno', right_on = 'NumeroDpto')\n",
    "empleado_departamento.loc[empleado_departamento.NombreDpto == 'Investigación', ['Nombre', 'Apellido1']]"
   ]
  },
  {
   "cell_type": "raw",
   "metadata": {},
   "source": [
    "SELECT SUM(sueldo), MAX(sueldo), MIN(sueldo), AVG(sueldo)\n",
    "FROM empleado;"
   ]
  },
  {
   "cell_type": "code",
   "execution_count": 66,
   "metadata": {},
   "outputs": [
    {
     "data": {
      "text/html": [
       "<div>\n",
       "<style scoped>\n",
       "    .dataframe tbody tr th:only-of-type {\n",
       "        vertical-align: middle;\n",
       "    }\n",
       "\n",
       "    .dataframe tbody tr th {\n",
       "        vertical-align: top;\n",
       "    }\n",
       "\n",
       "    .dataframe thead th {\n",
       "        text-align: right;\n",
       "    }\n",
       "</style>\n",
       "<table border=\"1\" class=\"dataframe\">\n",
       "  <thead>\n",
       "    <tr style=\"text-align: right;\">\n",
       "      <th></th>\n",
       "      <th>0</th>\n",
       "    </tr>\n",
       "  </thead>\n",
       "  <tbody>\n",
       "    <tr>\n",
       "      <th>Maximo Sueldo</th>\n",
       "      <td>55000.0</td>\n",
       "    </tr>\n",
       "    <tr>\n",
       "      <th>Minimo Sueldo</th>\n",
       "      <td>25000.0</td>\n",
       "    </tr>\n",
       "    <tr>\n",
       "      <th>Promedio Sueldo</th>\n",
       "      <td>35125.0</td>\n",
       "    </tr>\n",
       "    <tr>\n",
       "      <th>Suma Sueldo</th>\n",
       "      <td>281000.0</td>\n",
       "    </tr>\n",
       "  </tbody>\n",
       "</table>\n",
       "</div>"
      ],
      "text/plain": [
       "                        0\n",
       "Maximo Sueldo     55000.0\n",
       "Minimo Sueldo     25000.0\n",
       "Promedio Sueldo   35125.0\n",
       "Suma Sueldo      281000.0"
      ]
     },
     "execution_count": 66,
     "metadata": {},
     "output_type": "execute_result"
    }
   ],
   "source": [
    "pd.DataFrame(pd.Series({'Suma Sueldo': np.sum(empleado.Sueldo), 'Maximo Sueldo': np.max(empleado.Sueldo), 'Minimo Sueldo': np.min(empleado.Sueldo), 'Promedio Sueldo': np.average(empleado.Sueldo)}))"
   ]
  },
  {
   "cell_type": "raw",
   "metadata": {},
   "source": [
    "SELECT dno, AVG(sueldo)\n",
    "FROM empleado\n",
    "GROUP BY dno;"
   ]
  },
  {
   "cell_type": "code",
   "execution_count": 76,
   "metadata": {},
   "outputs": [
    {
     "data": {
      "text/html": [
       "<div>\n",
       "<style scoped>\n",
       "    .dataframe tbody tr th:only-of-type {\n",
       "        vertical-align: middle;\n",
       "    }\n",
       "\n",
       "    .dataframe tbody tr th {\n",
       "        vertical-align: top;\n",
       "    }\n",
       "\n",
       "    .dataframe thead th {\n",
       "        text-align: right;\n",
       "    }\n",
       "</style>\n",
       "<table border=\"1\" class=\"dataframe\">\n",
       "  <thead>\n",
       "    <tr style=\"text-align: right;\">\n",
       "      <th></th>\n",
       "      <th>Sueldo</th>\n",
       "    </tr>\n",
       "    <tr>\n",
       "      <th>Dno</th>\n",
       "      <th></th>\n",
       "    </tr>\n",
       "  </thead>\n",
       "  <tbody>\n",
       "    <tr>\n",
       "      <th>1</th>\n",
       "      <td>55000</td>\n",
       "    </tr>\n",
       "    <tr>\n",
       "      <th>4</th>\n",
       "      <td>31000</td>\n",
       "    </tr>\n",
       "    <tr>\n",
       "      <th>5</th>\n",
       "      <td>33250</td>\n",
       "    </tr>\n",
       "  </tbody>\n",
       "</table>\n",
       "</div>"
      ],
      "text/plain": [
       "     Sueldo\n",
       "Dno        \n",
       "1     55000\n",
       "4     31000\n",
       "5     33250"
      ]
     },
     "execution_count": 76,
     "metadata": {},
     "output_type": "execute_result"
    }
   ],
   "source": [
    "empleado[['Dno', 'Sueldo']].groupby('Dno').mean()"
   ]
  },
  {
   "cell_type": "markdown",
   "metadata": {},
   "source": [
    "#### Graficar en una imagen los sueldos de los empleados, mostrando `nombre` en un eje y `sueldo` en otro eje"
   ]
  },
  {
   "cell_type": "code",
   "execution_count": null,
   "metadata": {},
   "outputs": [],
   "source": []
  }
 ],
 "metadata": {
  "kernelspec": {
   "display_name": "Python 3",
   "language": "python",
   "name": "python3"
  },
  "language_info": {
   "codemirror_mode": {
    "name": "ipython",
    "version": 3
   },
   "file_extension": ".py",
   "mimetype": "text/x-python",
   "name": "python",
   "nbconvert_exporter": "python",
   "pygments_lexer": "ipython3",
   "version": "3.6.3"
  }
 },
 "nbformat": 4,
 "nbformat_minor": 2
}
